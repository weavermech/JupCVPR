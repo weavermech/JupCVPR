{
 "cells": [
  {
   "attachments": {},
   "cell_type": "markdown",
   "metadata": {},
   "source": [
    "# How to understand how an image is represented as a 3D array.  \n",
    "First import CV2 (Computer Vision 2), Numpy and Matplotlib"
   ]
  },
  {
   "cell_type": "code",
   "execution_count": 57,
   "metadata": {},
   "outputs": [],
   "source": [
    "import cv2 as cv\n",
    "import numpy as np\n",
    "import matplotlib.pyplot as plt"
   ]
  },
  {
   "attachments": {},
   "cell_type": "markdown",
   "metadata": {},
   "source": [
    "Create a 4x2 'grid' of pixels, defining the Blue, Green, Red values for each pixel (this is an array with 3 dimensions).   \n",
    "Note, we define blue first, BGR order not RGB.  \n",
    "\n",
    "Here I'm writing it out here as two lines of 4 pixels as the image will be displayed, but that's not how python will print out the array, as seen in a moment.  "
   ]
  },
  {
   "cell_type": "code",
   "execution_count": 58,
   "metadata": {},
   "outputs": [],
   "source": [
    "img = np.array([\n",
    "    [[  0,   0,   0], [255,   0,   0], [  0, 255,   0], [  0,   0, 255]],\n",
    "    [[128,   0,   128], [  0,   128, 128], [128, 128,   0], [255, 255, 255]]\n",
    "    ]).astype(np.uint8)"
   ]
  },
  {
   "attachments": {},
   "cell_type": "markdown",
   "metadata": {},
   "source": [
    "Show the shape of the array (think of the output as how many rows, columns and colour channels)."
   ]
  },
  {
   "cell_type": "code",
   "execution_count": 59,
   "metadata": {},
   "outputs": [
    {
     "data": {
      "text/plain": [
       "(2, 4, 3)"
      ]
     },
     "execution_count": 59,
     "metadata": {},
     "output_type": "execute_result"
    }
   ],
   "source": [
    "np.shape(img)"
   ]
  },
  {
   "attachments": {},
   "cell_type": "markdown",
   "metadata": {},
   "source": [
    "The pixels values are 8 bit integers (0 to 255), we defined the type as uint8 at the end of the array.  \n",
    "  \n",
    "Because there are 3 colours each with 256 possible intensities, each pixel has a 256^3 possible colours. You may have heard of things having \"16 million colours\", this is where that number comes from."
   ]
  },
  {
   "attachments": {},
   "cell_type": "markdown",
   "metadata": {},
   "source": [
    "The next cell demonstrates how python shows the array. The Blue, Green, Red values of the 4 pixels on the first row of the \"image\", then the 4 of the second row. You can have a guess at what the final image will look like based off this array."
   ]
  },
  {
   "cell_type": "code",
   "execution_count": 60,
   "metadata": {},
   "outputs": [
    {
     "data": {
      "text/plain": [
       "array([[[  0,   0,   0],\n",
       "        [255,   0,   0],\n",
       "        [  0, 255,   0],\n",
       "        [  0,   0, 255]],\n",
       "\n",
       "       [[128,   0, 128],\n",
       "        [  0, 128, 128],\n",
       "        [128, 128,   0],\n",
       "        [255, 255, 255]]], dtype=uint8)"
      ]
     },
     "execution_count": 60,
     "metadata": {},
     "output_type": "execute_result"
    }
   ],
   "source": [
    "img"
   ]
  },
  {
   "attachments": {},
   "cell_type": "markdown",
   "metadata": {},
   "source": [
    "Let's have a look at the image we've defined! "
   ]
  },
  {
   "cell_type": "code",
   "execution_count": 61,
   "metadata": {},
   "outputs": [
    {
     "data": {
      "text/plain": [
       "<matplotlib.image.AxesImage at 0x13c9bd100>"
      ]
     },
     "execution_count": 61,
     "metadata": {},
     "output_type": "execute_result"
    },
    {
     "data": {
      "image/png": "[encoded data removed]",
      "text/plain": [
       "<Figure size 640x480 with 1 Axes>"
      ]
     },
     "metadata": {},
     "output_type": "display_data"
    }
   ],
   "source": [
    "plt.imshow(img)"
   ]
  },
  {
   "attachments": {},
   "cell_type": "markdown",
   "metadata": {},
   "source": [
    "Having colour values represented in 8bit integers is good if you're a computer, but since we're humans looking to understand how images can be manipulated, we can normalise the values so they range from 0 to 1 instead of 0 to 255.  \n",
    "\n",
    "First we convert the array to a float and then divide each value by 255.\n",
    "This is called normalising."
   ]
  },
  {
   "cell_type": "code",
   "execution_count": 99,
   "metadata": {},
   "outputs": [
    {
     "data": {
      "text/plain": [
       "array([[[0.       , 0.       , 0.       ],\n",
       "        [1.       , 0.       , 0.       ],\n",
       "        [0.       , 1.       , 0.       ],\n",
       "        [0.       , 0.       , 1.       ]],\n",
       "\n",
       "       [[0.5019608, 0.       , 0.5019608],\n",
       "        [0.       , 0.5019608, 0.5019608],\n",
       "        [0.5019608, 0.5019608, 0.       ],\n",
       "        [1.       , 1.       , 1.       ]]], dtype=float32)"
      ]
     },
     "execution_count": 99,
     "metadata": {},
     "output_type": "execute_result"
    }
   ],
   "source": [
    "normimg = img.astype(np.float32)\n",
    "normimg /= 255.\n",
    "\n",
    "normimg"
   ]
  },
  {
   "attachments": {},
   "cell_type": "markdown",
   "metadata": {},
   "source": [
    "The image still displays exactly the same:"
   ]
  },
  {
   "cell_type": "code",
   "execution_count": 100,
   "metadata": {},
   "outputs": [
    {
     "data": {
      "text/plain": [
       "<matplotlib.image.AxesImage at 0x13cc0bbe0>"
      ]
     },
     "execution_count": 100,
     "metadata": {},
     "output_type": "execute_result"
    },
    {
     "data": {
      "image/png": "[encoded data removed]",
      "text/plain": [
       "<Figure size 640x480 with 1 Axes>"
      ]
     },
     "metadata": {},
     "output_type": "display_data"
    }
   ],
   "source": [
    "plt.imshow(normimg)"
   ]
  },
  {
   "attachments": {},
   "cell_type": "markdown",
   "metadata": {},
   "source": [
    "\n",
    "We can use several methods to do this calculation, which result in having 1 value in the third dimension of the array. I think it's best to focus on whichever makes the most sense out of the 1st and 2nd approaches, but if neither make sense just trust that the function in approach 3 does what's needed!  \n",
    "\n",
    "1. We can create a 2D array that is the size of the image (we no longer need the 3rd dimension for the different colours) and use a loop to iterate through each 'pixel' in the array. For each pixel, eachcolour is weighted and suming the sum of the 3 is used to create the grayscale value for that pixel.  \n",
    "\n",
    "2. We can use linear algebra to find the dot product of the 3D array (source image) and the 1D array (the B,G,R weights), which will be the sum product over the last axis of the 3D array. The function np.dot()  \n",
    "\n",
    "3. We use Open-CVs built in function cvtColour to convert the colour spaces. We're going from BGR to greyscale. There are other colour spaces possible too, e.g. HSV, but they won't be demonstated here.  \n"
   ]
  },
  {
   "cell_type": "code",
   "execution_count": 104,
   "metadata": {},
   "outputs": [
    {
     "data": {
      "text/plain": [
       "array([[0.        , 0.07      , 0.72      , 0.21      ],\n",
       "       [0.14054903, 0.46682355, 0.39654905, 1.        ]], dtype=float32)"
      ]
     },
     "execution_count": 104,
     "metadata": {},
     "output_type": "execute_result"
    }
   ],
   "source": [
    "H,W = normimg.shape[:2]\n",
    "gray_loop = np.zeros((H,W), np.float32)\n",
    "\n",
    "for i in range(H):\n",
    "    for j in range(W):\n",
    "        gray_loop[i,j] = np.clip(0.07 * normimg[i,j,0]  + 0.72 * normimg[i,j,1] + 0.21 * normimg[i,j,2], 0, 1)\n",
    "\n",
    "gray_loop"
   ]
  },
  {
   "cell_type": "code",
   "execution_count": 106,
   "metadata": {},
   "outputs": [
    {
     "data": {
      "text/plain": [
       "array([[0.        , 0.144     , 0.587     , 0.299     ],\n",
       "       [0.22236864, 0.4447373 , 0.36693335, 1.        ]], dtype=float32)"
      ]
     },
     "execution_count": 106,
     "metadata": {},
     "output_type": "execute_result"
    }
   ],
   "source": [
    "# Option 2\n",
    "\n",
    "# Duplicate the source image \n",
    "gray_calc = normimg\n",
    "\n",
    "gray_calc = np.clip(np.dot(normimg[...,:3], [0.144, 0.587, 0.299]).astype(np.float32), 0, 1)\n",
    "# Try commenting out the line above and using the one below that doesn't clip the output between 0 and 1. See how we can have values > 1?\n",
    "# Matplot will auto detect and clip image values between 0-1 for Floats and 0-255 for Ints, but we should be doing this ourselves.\n",
    "#gray_calc = np.dot(normimg[...,:3], [0.144, 0.587, 0.299]).astype(np.float32)\n",
    "\n",
    "gray_calc"
   ]
  },
  {
   "cell_type": "code",
   "execution_count": 107,
   "metadata": {},
   "outputs": [
    {
     "data": {
      "text/plain": [
       "array([[0.        , 0.114     , 0.587     , 0.299     ],\n",
       "       [0.20730981, 0.4447373 , 0.35187453, 1.        ]], dtype=float32)"
      ]
     },
     "execution_count": 107,
     "metadata": {},
     "output_type": "execute_result"
    }
   ],
   "source": [
    "# Option 3\n",
    "\n",
    "gray_img = cv.cvtColor(normimg, cv.COLOR_BGR2GRAY)\n",
    "\n",
    "gray_img"
   ]
  },
  {
   "attachments": {},
   "cell_type": "markdown",
   "metadata": {},
   "source": [
    "Here we make a 2x2 grid of subplots to display our normalised colour image, and each of the normalised grayscale conversions.  \n",
    "\n",
    "I also added a line to remove the tick marks on the plot."
   ]
  },
  {
   "cell_type": "code",
   "execution_count": 116,
   "metadata": {},
   "outputs": [
    {
     "data": {
      "image/png": "[encoded data removed]",
      "text/plain": [
       "<Figure size 1600x800 with 4 Axes>"
      ]
     },
     "metadata": {},
     "output_type": "display_data"
    }
   ],
   "source": [
    "fig, ax = plt.subplots(2, 2, figsize=(16, 8))\n",
    "\n",
    "\n",
    "ax[0, 0].imshow(cv.cvtColor(img, cv.COLOR_BGR2RGB))\n",
    "ax[0, 0].set_title(\"Original\")\n",
    "\n",
    "ax[0, 1].imshow(cv.cvtColor(gray_loop, cv.COLOR_BGR2RGB))\n",
    "ax[0, 1].set_title(\"Gray Loop\")\n",
    "\n",
    "ax[1, 0].imshow(cv.cvtColor(gray_calc, cv.COLOR_BGR2RGB))\n",
    "ax[1, 0].set_title(\"Gray Linear Algebra\")\n",
    "\n",
    "ax[1, 1].imshow(cv.cvtColor(gray_img, cv.COLOR_BGR2RGB))\n",
    "ax[1, 1].set_title(\"Gray Function\")\n",
    "\n",
    "\n",
    "plt.setp(plt.gcf().get_axes(), xticks=[], yticks=[])\n",
    "\n",
    "plt.show()\n"
   ]
  }
 ],
 "metadata": {
  "kernelspec": {
   "display_name": "Python 3",
   "language": "python",
   "name": "python3"
  },
  "language_info": {
   "codemirror_mode": {
    "name": "ipython",
    "version": 3
   },
   "file_extension": ".py",
   "mimetype": "text/x-python",
   "name": "python",
   "nbconvert_exporter": "python",
   "pygments_lexer": "ipython3",
   "version": "3.9.6"
  },
  "orig_nbformat": 4
 },
 "nbformat": 4,
 "nbformat_minor": 2
}
